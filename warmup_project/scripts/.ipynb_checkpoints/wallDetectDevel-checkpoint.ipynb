{
 "cells": [
  {
   "cell_type": "code",
   "execution_count": 1,
   "metadata": {
    "collapsed": true
   },
   "outputs": [],
   "source": [
    "ranges = [0.0, 0.0, 0.0, 0.0, 0.0, 0.0, 0.0, 0.0, 0.0, 0.0, 0.0, 0.0, 0.0, 0.0, 0.0, 0.0, 0.0, 0.0, 0.0, 0.0, 0.0, 0.0, 0.0, 0.0, 0.0, 0.0, 0.0, 0.0, 0.0, 0.0, 0.0, 0.0, 0.0, 0.0, 0.0, 0.0, 0.0, 0.0, 0.0, 0.0, 0.0, 0.0, 0.0, 0.0, 1.0980000495910645, 1.1100000143051147, 1.1180000305175781, 1.13100004196167, 1.1579999923706055, 0.0, 0.0, 0.0, 0.0, 0.0, 0.0, 0.0, 0.0, 0.0, 0.0, 0.0, 0.0, 0.0, 0.0, 0.0, 0.0, 0.0, 0.0, 0.0, 0.0, 0.0, 0.0, 0.0, 0.0, 0.0, 0.0, 0.0, 0.0, 0.0, 0.0, 0.0, 0.0, 0.0, 0.0, 0.0, 0.0, 0.0, 0.0, 0.0, 0.0, 0.0, 0.0, 0.0, 0.0, 0.0, 0.0, 0.0, 0.0, 0.0, 0.0, 0.0, 0.0, 0.0, 0.0, 0.0, 0.0, 0.0, 0.0, 0.0, 0.0, 0.0, 0.0, 0.0, 0.0, 0.0, 0.0, 0.0, 0.0, 0.0, 0.0, 0.0, 0.0, 0.0, 0.0, 0.0, 0.0, 0.0, 0.0, 0.0, 0.0, 0.0, 0.0, 0.0, 0.0, 0.0, 0.0, 0.0, 0.0, 0.0, 0.0, 0.0, 0.0, 0.0, 0.0, 0.0, 0.0, 0.0, 0.0, 0.0, 0.0, 0.0, 0.0, 0.0, 0.0, 0.0, 0.0, 0.0, 0.0, 0.0, 0.0, 0.0, 0.0, 0.0, 0.0, 0.0, 0.0, 0.0, 0.0, 0.0, 0.0, 0.0, 0.0, 0.0, 0.0, 0.0, 0.0, 0.0, 0.0, 0.0, 0.0, 0.0, 0.0, 0.0, 0.0, 0.0, 0.0, 0.0, 0.0, 0.0, 0.0, 0.0, 0.0, 0.0, 0.0, 0.0, 0.0, 0.0, 0.0, 0.0, 0.0, 0.0, 0.0, 0.0, 0.0, 0.0, 0.0, 0.0, 0.0, 0.0, 0.0, 0.0, 0.0, 0.0, 0.0, 0.0, 0.0, 0.0, 0.0, 0.0, 0.0, 1.11899995803833, 1.100000023841858, 1.0759999752044678, 1.0549999475479126, 1.0399999618530273, 1.0199999809265137, 1.0019999742507935, 0.9860000014305115, 0.968999981880188, 0.9549999833106995, 0.9390000104904175, 0.9269999861717224, 0.9139999747276306, 0.9020000100135803, 0.8880000114440918, 0.8790000081062317, 0.8669999837875366, 0.8579999804496765, 0.847000002861023, 0.8370000123977661, 0.8289999961853027, 0.8209999799728394, 0.8119999766349792, 0.8040000200271606, 0.796999990940094, 0.7910000085830688, 0.7839999794960022, 0.777999997138977, 0.7720000147819519, 0.7639999985694885, 0.0, 0.0, 0.0, 0.0, 0.0, 0.0, 0.0, 0.0, 0.0, 0.0, 0.7260000109672546, 0.7200000286102295, 0.7160000205039978, 0.7139999866485596, 0.7120000123977661, 0.7120000123977661, 0.7089999914169312, 0.7080000042915344, 0.7070000171661377, 0.7059999704360962, 0.7059999704360962, 0.7049999833106995, 0.7049999833106995, 0.7049999833106995, 0.7049999833106995, 0.7059999704360962, 0.7059999704360962, 0.7070000171661377, 0.7089999914169312, 0.7099999785423279, 0.7110000252723694, 0.7129999995231628, 0.7160000205039978, 0.7200000286102295, 0.7250000238418579, 0.0, 0.0, 0.0, 0.0, 0.0, 0.0, 0.7379999756813049, 0.7459999918937683, 0.7519999742507935, 0.7570000290870667, 0.7630000114440918, 0.7689999938011169, 0.7739999890327454, 0.7799999713897705, 0.7879999876022339, 0.7950000166893005, 0.8029999732971191, 0.8109999895095825, 0.8180000185966492, 0.8259999752044678, 0.8370000123977661, 0.8479999899864197, 0.8569999933242798, 0.8669999837875366, 0.8790000081062317, 0.8899999856948853, 0.902999997138977, 0.9160000085830688, 0.9309999942779541, 0.9430000185966492, 0.9610000252723694, 0.9760000109672546, 0.9919999837875366, 1.0080000162124634, 1.031000018119812, 1.0499999523162842, 1.0679999589920044, 1.0950000286102295, 1.11899995803833, 1.1419999599456787, 0.0, 0.0, 0.0, 0.0, 0.0, 0.0, 0.0, 0.0, 0.0, 0.0, 0.0, 0.0, 0.0, 0.0, 0.0, 0.0, 0.0, 0.0, 0.0, 0.0, 0.0, 0.0, 0.0, 0.0, 0.0, 0.0, 0.0, 0.0, 0.0, 0.0, 0.0, 0.0, 0.0, 0.0, 0.0, 0.0, 0.0]"
   ]
  },
  {
   "cell_type": "code",
   "execution_count": 2,
   "metadata": {
    "collapsed": false
   },
   "outputs": [
    {
     "data": {
      "text/plain": [
       "361"
      ]
     },
     "execution_count": 2,
     "metadata": {},
     "output_type": "execute_result"
    }
   ],
   "source": [
    "len(ranges)"
   ]
  },
  {
   "cell_type": "code",
   "execution_count": 3,
   "metadata": {
    "collapsed": true
   },
   "outputs": [],
   "source": [
    "import numpy as np\n",
    "import matplotlib.pyplot as plt\n",
    "import random"
   ]
  },
  {
   "cell_type": "code",
   "execution_count": 4,
   "metadata": {
    "collapsed": false
   },
   "outputs": [],
   "source": [
    "for ang, dist in enumerate(ranges):\n",
    "    if dist == 0.0:\n",
    "        continue\n",
    "    x = dist * np.cos(ang * np.pi / 180)\n",
    "    y = dist * np.sin(ang * np.pi / 180)\n",
    "    try:\n",
    "        pts = np.append(pts, [[x,y]], axis=0)\n",
    "    except:\n",
    "        pts = np.asarray([[x,y]])"
   ]
  },
  {
   "cell_type": "code",
   "execution_count": 5,
   "metadata": {
    "collapsed": false
   },
   "outputs": [
    {
     "data": {
      "image/png": "[encoded data removed]",
      "text/plain": [
       "<matplotlib.figure.Figure at 0x7f6f1c056080>"
      ]
     },
     "metadata": {},
     "output_type": "display_data"
    }
   ],
   "source": [
    "plt.scatter(pts[:,0],pts[:,1])\n",
    "plt.show()"
   ]
  },
  {
   "cell_type": "code",
   "execution_count": 6,
   "metadata": {
    "collapsed": false
   },
   "outputs": [
    {
     "data": {
      "text/plain": [
       "[6, 29]"
      ]
     },
     "execution_count": 6,
     "metadata": {},
     "output_type": "execute_result"
    }
   ],
   "source": [
    "idxs = sorted(random.sample(range(pts.shape[0]), 2))\n",
    "idxs"
   ]
  },
  {
   "cell_type": "code",
   "execution_count": 7,
   "metadata": {
    "collapsed": false
   },
   "outputs": [
    {
     "name": "stdout",
     "output_type": "stream",
     "text": [
      "[-0.84264891 -0.70706639] [-0.36183042 -0.71013219]\n",
      "[-0.48081848  0.00306581]\n"
     ]
    }
   ],
   "source": [
    "a = pts[idxs[0]]\n",
    "b = pts[idxs[1]]\n",
    "print(a, b)\n",
    "print(a - b)"
   ]
  },
  {
   "cell_type": "code",
   "execution_count": 8,
   "metadata": {
    "collapsed": false
   },
   "outputs": [],
   "source": [
    "errorPts = np.asarray([x[1] for x in enumerate(pts) if x[0] not in idxs])"
   ]
  },
  {
   "cell_type": "code",
   "execution_count": 35,
   "metadata": {
    "collapsed": false
   },
   "outputs": [
    {
     "name": "stdout",
     "output_type": "stream",
     "text": [
      "0.000970829853462\n"
     ]
    }
   ],
   "source": [
    "errors = []\n",
    "\n",
    "for c in errorPts:\n",
    "    ab = b-a\n",
    "    ac = c-a\n",
    "    ang = np.arccos(np.dot(ab, ac) / (np.linalg.norm(ab) * np.linalg.norm(ac)))\n",
    "    dist = np.linalg.norm(ac) * np.sin(ang)\n",
    "    errors.append([c, dist**2])\n",
    "\n",
    "\n",
    "wallPts = [pt[1] for pt in errors if pt[1] < .1]\n",
    "print(max(wallPts))"
   ]
  },
  {
   "cell_type": "code",
   "execution_count": null,
   "metadata": {
    "collapsed": true
   },
   "outputs": [],
   "source": []
  },
  {
   "cell_type": "code",
   "execution_count": null,
   "metadata": {
    "collapsed": true
   },
   "outputs": [],
   "source": []
  }
 ],
 "metadata": {
  "kernelspec": {
   "display_name": "Python 3",
   "language": "python",
   "name": "python3"
  },
  "language_info": {
   "codemirror_mode": {
    "name": "ipython",
    "version": 3
   },
   "file_extension": ".py",
   "mimetype": "text/x-python",
   "name": "python",
   "nbconvert_exporter": "python",
   "pygments_lexer": "ipython3",
   "version": "3.5.2"
  }
 },
 "nbformat": 4,
 "nbformat_minor": 1
}
