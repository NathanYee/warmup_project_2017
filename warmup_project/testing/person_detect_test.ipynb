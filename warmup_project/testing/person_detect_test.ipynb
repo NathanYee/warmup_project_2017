{
 "cells": [
  {
   "cell_type": "markdown",
   "metadata": {},
   "source": [
    "# Foot detection testing"
   ]
  },
  {
   "cell_type": "code",
   "execution_count": 3,
   "metadata": {
    "collapsed": true
   },
   "outputs": [],
   "source": [
    "import numpy as np\n",
    "import matplotlib.pyplot as plt\n",
    "%matplotlib inline"
   ]
  },
  {
   "cell_type": "code",
   "execution_count": 15,
   "metadata": {
    "collapsed": false
   },
   "outputs": [],
   "source": [
    "from sklearn.cluster import AffinityPropagation"
   ]
  },
  {
   "cell_type": "code",
   "execution_count": 5,
   "metadata": {
    "collapsed": true
   },
   "outputs": [],
   "source": [
    "scan = [0.0, 0.0, 0.0, 0.0, 0.0, 0.0, 0.0, 0.0, 0.0, 0.0, 0.0, 0.0, 0.0, 0.0, 0.0, 0.0, 0.0, 0.0,\n",
    " 0.0, 0.0, 0.0, 0.0, 0.0, 0.0, 0.0, 0.0, 0.0, 0.0, 0.0, 0.0, 0.0, 0.0, 0.0, 0.0, 0.0, 0.0,\n",
    " 0.0, 0.0, 0.0, 0.0, 0.0, 0.0, 0.0, 0.0, 0.0, 1.062000036239624, 1.0460000038146973,\n",
    " 1.0269999504089355, 1.0199999809265137, 1.00600004196167, 0.9959999918937683,\n",
    " 0.9819999933242798, 0.9710000157356262, 0.9580000042915344, 0.949999988079071,\n",
    " 0.9390000104904175, 0.9309999942779541, 0.9200000166893005, 0.9129999876022339,\n",
    " 0.9049999713897705, 0.8960000276565552, 0.8889999985694885, 0.8830000162124634,\n",
    " 0.8769999742507935, 0.8700000047683716, 0.8640000224113464, 0.859000027179718,\n",
    " 0.8529999852180481, 0.8479999899864197, 0.8450000286102295, 0.8399999737739563,\n",
    " 0.8370000123977661, 0.8320000171661377, 0.8289999961853027, 0.8240000009536743,\n",
    " 0.8220000267028809, 0.8190000057220459, 0.8159999847412109, 0.8130000233650208,\n",
    " 0.8040000200271606, 0.0, 0.0, 0.0, 0.0, 0.0, 0.0, 0.0, 0.8119999766349792,\n",
    " 0.8069999814033508, 0.8069999814033508, 0.8080000281333923, 0.8090000152587891,\n",
    " 0.8100000023841858, 0.8109999895095825, 0.8130000233650208, 0.8149999976158142,\n",
    " 0.8180000185966492, 0.8209999799728394, 0.8209999799728394, 0.8259999752044678,\n",
    " 0.828000009059906, 0.8330000042915344, 0.8379999995231628, 0.8410000205039978,\n",
    " 0.8450000286102295, 0.8500000238418579, 0.8550000190734863, 0.8600000143051147,\n",
    " 0.8669999837875366, 0.875, 0.8830000162124634, 0.0, 0.0, 0.0, 0.0, 0.0, 0.0, 0.0, 0.0,\n",
    " 0.0, 0.0, 0.0, 0.0, 0.0, 1.0140000581741333, 0.0, 1.0410000085830688, 1.0570000410079956,\n",
    " 0.0, 0.0, 0.0, 0.0, 0.0, 0.0, 0.0, 0.0, 0.0, 0.0, 0.0, 0.0, 0.0, 0.0, 0.0, 0.0, 0.0, 0.0,\n",
    " 0.0, 0.0, 0.0, 0.0, 0.0, 0.0, 0.0, 0.0, 0.0, 0.0, 0.0, 0.0, 0.0, 0.0, 0.0, 0.0, 0.0, 0.0,\n",
    " 0.0, 0.0, 0.0, 0.0, 0.0, 0.0, 0.0, 0.0, 0.0, 0.0, 0.0, 0.0, 0.0, 0.0, 0.0, 0.0, 0.0, 0.0,\n",
    " 0.0, 0.0, 0.0, 0.0, 0.0, 0.0, 0.0, 0.0, 0.0, 0.0, 0.0, 0.0, 0.0, 0.0, 0.0, 0.0, 0.0, 0.0,\n",
    " 0.0, 0.0, 0.0, 0.0, 0.0, 0.0, 0.0, 0.0, 0.0, 0.0, 0.0, 0.0, 0.0, 0.0, 0.0, 0.0, 0.0, 0.0,\n",
    " 0.0, 0.0, 0.0, 0.0, 0.0, 0.0, 0.0, 0.0, 0.0, 0.0, 0.0, 0.0, 0.0, 0.0, 0.0, 0.0, 0.0, 0.0,\n",
    " 0.0, 0.0, 0.0, 0.0, 0.0, 0.0, 0.0, 0.0, 0.0, 0.0, 0.0, 0.0, 0.0, 0.0, 0.0, 0.0, 0.0, 0.0,\n",
    " 0.0, 0.0, 0.0, 0.0, 0.0, 0.0, 0.0, 0.0, 0.0, 0.0, 0.0, 0.0, 0.0, 0.0, 0.0, 0.0, 0.0, 0.0,\n",
    " 0.0, 0.0, 0.0, 0.0, 0.0, 0.0, 0.0, 0.0, 0.0, 0.0, 0.0, 0.0, 0.0, 0.0, 0.0, 0.0, 0.0, 0.0,\n",
    " 0.0, 0.0, 0.0, 0.0, 0.0, 0.7200000286102295, 0.703000009059906, 0.6899999976158142,\n",
    " 0.6830000281333923, 0.6790000200271606, 0.6790000200271606, 0.0, 0.0, 0.0, 0.0,\n",
    " 0.8149999976158142, 0.8190000057220459, 0.0, 0.0, 0.0, 0.0, 0.0, 0.0, 0.0, 0.0, 0.0, 0.0,\n",
    " 0.0, 0.0, 0.0, 0.0, 0.0, 0.0, 0.0, 0.0, 0.0, 0.0, 0.0, 0.0, 0.0, 0.0, 0.0, 0.0, 0.0, 0.0,\n",
    " 0.0, 0.0, 0.0, 0.0, 0.0, 0.0, 0.0, 0.0, 0.0, 0.0, 0.0, 0.0, 0.0, 0.0, 0.0, 0.0, 0.0, 0.0,\n",
    " 0.0, 0.0, 0.0, 0.0, 0.0, 0.0, 0.0, 0.0]"
   ]
  },
  {
   "cell_type": "code",
   "execution_count": 6,
   "metadata": {
    "collapsed": false
   },
   "outputs": [],
   "source": [
    "def laserToCart(scan):\n",
    "    for ang, dist in enumerate(scan[0:-1]):\n",
    "        ang += 180\n",
    "        if dist == 0.0:\n",
    "            continue\n",
    "        x = dist * np.cos(ang * np.pi / 180)\n",
    "        y = dist * np.sin(ang * np.pi / 180)\n",
    "        try:\n",
    "            pts = np.append(pts, [[x,y]], axis=0)\n",
    "        except:\n",
    "            pts = np.asarray([[x,y]])\n",
    "    return (pts)"
   ]
  },
  {
   "cell_type": "code",
   "execution_count": 33,
   "metadata": {
    "collapsed": true
   },
   "outputs": [],
   "source": [
    "X = laserToCart(scan)"
   ]
  },
  {
   "cell_type": "code",
   "execution_count": 22,
   "metadata": {
    "collapsed": false
   },
   "outputs": [
    {
     "data": {
      "text/plain": [
       "[array([ -7.50947427e-01,  -7.26612658e-01,  -7.00412282e-01,\n",
       "         -6.82513206e-01,  -6.59995411e-01,  -6.40216454e-01,\n",
       "         -6.17992620e-01,  -5.97807302e-01,  -5.76538795e-01,\n",
       "         -5.58395983e-01,  -5.38588280e-01,  -5.20608590e-01,\n",
       "         -5.01067921e-01,  -4.83816282e-01,  -4.66109443e-01,\n",
       "         -4.48000014e-01,  -4.30995752e-01,  -4.14543398e-01,\n",
       "         -3.98149657e-01,  -3.81382900e-01,  -3.65142188e-01,\n",
       "         -3.49386787e-01,  -3.33293647e-01,  -3.17666387e-01,\n",
       "         -3.02820928e-01,  -2.87296911e-01,  -2.72500549e-01,\n",
       "         -2.57102145e-01,  -2.42376142e-01,  -2.27125181e-01,\n",
       "         -2.12749262e-01,  -1.98134034e-01,  -1.83560057e-01,\n",
       "         -1.69032209e-01,  -1.53410436e-01,  -4.24967952e-02,\n",
       "         -2.81638932e-02,  -1.40840917e-02,  -1.48427197e-16,\n",
       "          1.41189971e-02,   2.82685924e-02,   4.24444600e-02,\n",
       "          5.67120148e-02,   7.10319301e-02,   8.55042849e-02,\n",
       "          1.00054728e-01,   1.14261113e-01,   1.29214864e-01,\n",
       "          1.43780693e-01,   1.58943894e-01,   1.74229997e-01,\n",
       "          1.89183841e-01,   2.04424009e-01,   2.19996195e-01,\n",
       "          2.35669944e-01,   2.51439670e-01,   2.67917729e-01,\n",
       "          2.84872135e-01,   3.02003792e-01,   5.67021637e-01,\n",
       "          6.11884453e-01,   6.36118504e-01,  -3.04285161e-01,\n",
       "         -3.08174920e-01,  -3.13253444e-01,  -3.20649091e-01,\n",
       "         -3.29185742e-01,  -3.39500010e-01,  -4.67464794e-01,\n",
       "         -4.81396125e-01]),\n",
       " array([-0.75094743, -0.75242943, -0.75110022, -0.75800771, -0.75923787,\n",
       "        -0.76298026, -0.76315733, -0.76515845, -0.76509282, -0.76856614,\n",
       "        -0.76918378, -0.77183398, -0.77157694, -0.7742679 , -0.77573638,\n",
       "        -0.77595879, -0.77753692, -0.77964274, -0.7814127 , -0.78195082,\n",
       "        -0.78304995, -0.78473557, -0.78519063, -0.7862519 , -0.78887549,\n",
       "        -0.78934178, -0.79139906, -0.79127904, -0.79277664, -0.79207964,\n",
       "        -0.79399106, -0.79467221, -0.79508596, -0.79523402, -0.78922828,\n",
       "        -0.81088716, -0.80650838, -0.80687707, -0.80800003, -0.8088768 ,\n",
       "        -0.80950657, -0.80988854, -0.8110196 , -0.81189868, -0.81351893,\n",
       "        -0.81488037, -0.81301006, -0.81583054, -0.81542083, -0.81769545,\n",
       "        -0.81968769, -0.81944524, -0.81989992, -0.82103698, -0.82187877,\n",
       "        -0.8224221 , -0.82456598, -0.82732875, -0.8297486 , -0.84064415,\n",
       "        -0.8421867 , -0.84415777,  0.65254163,  0.63185222,  0.6147945 ,\n",
       "         0.60305323,  0.5938668 ,  0.58803127,  0.66760891,  0.66258492])]"
      ]
     },
     "execution_count": 22,
     "metadata": {},
     "output_type": "execute_result"
    }
   ],
   "source": []
  },
  {
   "cell_type": "code",
   "execution_count": 8,
   "metadata": {
    "collapsed": false
   },
   "outputs": [],
   "source": [
    "x, y = np.transpose(pts)"
   ]
  },
  {
   "cell_type": "code",
   "execution_count": 9,
   "metadata": {
    "collapsed": false
   },
   "outputs": [
    {
     "data": {
      "text/plain": [
       "<matplotlib.collections.PathCollection at 0x7fc3b4412c10>"
      ]
     },
     "execution_count": 9,
     "metadata": {},
     "output_type": "execute_result"
    },
    {
     "data": {
      "image/png": "[encoded data removed]",
      "text/plain": [
       "<matplotlib.figure.Figure at 0x7fc3b4528b90>"
      ]
     },
     "metadata": {},
     "output_type": "display_data"
    }
   ],
   "source": [
    "plt.scatter(x, y)"
   ]
  },
  {
   "cell_type": "code",
   "execution_count": 28,
   "metadata": {
    "collapsed": false
   },
   "outputs": [],
   "source": [
    "clustering = AffinityPropagation()"
   ]
  },
  {
   "cell_type": "code",
   "execution_count": 29,
   "metadata": {
    "collapsed": false
   },
   "outputs": [
    {
     "data": {
      "text/plain": [
       "AffinityPropagation(affinity='euclidean', convergence_iter=15, copy=True,\n",
       "          damping=0.5, max_iter=200, preference=None, verbose=False)"
      ]
     },
     "execution_count": 29,
     "metadata": {},
     "output_type": "execute_result"
    }
   ],
   "source": [
    "clustering.fit(pts)"
   ]
  },
  {
   "cell_type": "code",
   "execution_count": 30,
   "metadata": {
    "collapsed": false
   },
   "outputs": [
    {
     "data": {
      "text/plain": [
       "array([0, 0, 0, 0, 0, 0, 0, 0, 0, 0, 0, 0, 0, 0, 0, 1, 1, 1, 1, 1, 1, 1, 1,\n",
       "       1, 1, 1, 1, 1, 1, 1, 1, 1, 1, 1, 1, 2, 2, 2, 2, 2, 2, 2, 2, 2, 2, 2,\n",
       "       2, 2, 2, 2, 2, 2, 2, 2, 2, 2, 2, 2, 2, 3, 3, 3, 4, 4, 4, 4, 4, 4, 4,\n",
       "       4])"
      ]
     },
     "execution_count": 30,
     "metadata": {},
     "output_type": "execute_result"
    }
   ],
   "source": [
    "clustering.labels_"
   ]
  },
  {
   "cell_type": "code",
   "execution_count": 40,
   "metadata": {
    "collapsed": true
   },
   "outputs": [],
   "source": [
    "af = AffinityPropagation(preference=-10).fit(X)\n",
    "cluster_centers_indices = af.cluster_centers_indices_\n",
    "labels = af.labels_\n",
    "\n",
    "n_clusters_ = len(cluster_centers_indices)"
   ]
  },
  {
   "cell_type": "code",
   "execution_count": 41,
   "metadata": {
    "collapsed": false
   },
   "outputs": [
    {
     "data": {
      "image/png": "[encoded data removed]",
      "text/plain": [
       "<matplotlib.figure.Figure at 0x7fc3b1a85150>"
      ]
     },
     "metadata": {},
     "output_type": "display_data"
    }
   ],
   "source": [
    "import matplotlib.pyplot as plt\n",
    "from itertools import cycle\n",
    "\n",
    "plt.close('all')\n",
    "plt.figure(1)\n",
    "plt.clf()\n",
    "\n",
    "colors = cycle('bgrcmykbgrcmykbgrcmykbgrcmyk')\n",
    "for k, col in zip(range(n_clusters_), colors):\n",
    "    class_members = labels == k\n",
    "    cluster_center = X[cluster_centers_indices[k]]\n",
    "    plt.plot(X[class_members, 0], X[class_members, 1], col + '.')\n",
    "    plt.plot(cluster_center[0], cluster_center[1], 'o', markerfacecolor=col,\n",
    "             markeredgecolor='k', markersize=14)\n",
    "    for x in X[class_members]:\n",
    "        plt.plot([cluster_center[0], x[0]], [cluster_center[1], x[1]], col)\n",
    "\n",
    "plt.title('Estimated number of clusters: %d' % n_clusters_)\n",
    "plt.show()"
   ]
  },
  {
   "cell_type": "code",
   "execution_count": 42,
   "metadata": {
    "collapsed": false
   },
   "outputs": [
    {
     "data": {
      "text/plain": [
       "array([[-0.16903221, -0.79523402],\n",
       "       [-0.33950001,  0.58803127]])"
      ]
     },
     "execution_count": 42,
     "metadata": {},
     "output_type": "execute_result"
    }
   ],
   "source": [
    "af.cluster_centers_"
   ]
  },
  {
   "cell_type": "code",
   "execution_count": 43,
   "metadata": {
    "collapsed": false
   },
   "outputs": [
    {
     "data": {
      "text/plain": [
       "array([0, 0, 0, 0, 0, 0, 0, 0, 0, 0, 0, 0, 0, 0, 0, 0, 0, 0, 0, 0, 0, 0, 0,\n",
       "       0, 0, 0, 0, 0, 0, 0, 0, 0, 0, 0, 0, 0, 0, 0, 0, 0, 0, 0, 0, 0, 0, 0,\n",
       "       0, 0, 0, 0, 0, 0, 0, 0, 0, 0, 0, 0, 0, 0, 0, 0, 1, 1, 1, 1, 1, 1, 1,\n",
       "       1])"
      ]
     },
     "execution_count": 43,
     "metadata": {},
     "output_type": "execute_result"
    }
   ],
   "source": [
    "af.labels_"
   ]
  },
  {
   "cell_type": "code",
   "execution_count": 44,
   "metadata": {
    "collapsed": true
   },
   "outputs": [],
   "source": [
    "from collections import Counter"
   ]
  },
  {
   "cell_type": "code",
   "execution_count": 55,
   "metadata": {
    "collapsed": false
   },
   "outputs": [],
   "source": [
    "aa = Counter(af.labels_)"
   ]
  },
  {
   "cell_type": "code",
   "execution_count": 65,
   "metadata": {
    "collapsed": false
   },
   "outputs": [
    {
     "data": {
      "text/plain": [
       "0"
      ]
     },
     "execution_count": 65,
     "metadata": {},
     "output_type": "execute_result"
    }
   ],
   "source": [
    "max_v = 0\n",
    "max_k = None\n",
    "for k, v in Counter(af.labels_).items():\n",
    "    if v > max_v:\n",
    "        max_v = v\n",
    "        max_k = k\n",
    "max_k"
   ]
  },
  {
   "cell_type": "code",
   "execution_count": 67,
   "metadata": {
    "collapsed": false
   },
   "outputs": [
    {
     "data": {
      "text/plain": [
       "0"
      ]
     },
     "execution_count": 67,
     "metadata": {},
     "output_type": "execute_result"
    }
   ],
   "source": [
    "def thing(a, b):\n",
    "    if a[1] >= b[1]:\n",
    "        return a[0]\n",
    "    else:\n",
    "        return b[0]\n",
    "    \n",
    "reduce(thing, aa.iteritems())"
   ]
  },
  {
   "cell_type": "code",
   "execution_count": 49,
   "metadata": {
    "collapsed": true
   },
   "outputs": [],
   "source": [
    "reduce(lambda m, n: if)"
   ]
  },
  {
   "cell_type": "code",
   "execution_count": 56,
   "metadata": {
    "collapsed": false
   },
   "outputs": [
    {
     "data": {
      "text/plain": [
       "<dictionary-valueiterator at 0x7fc3b17bc208>"
      ]
     },
     "execution_count": 56,
     "metadata": {},
     "output_type": "execute_result"
    }
   ],
   "source": [
    "a.itervalues()"
   ]
  },
  {
   "cell_type": "code",
   "execution_count": 57,
   "metadata": {
    "collapsed": true
   },
   "outputs": [],
   "source": [
    "import numpy as np"
   ]
  },
  {
   "cell_type": "code",
   "execution_count": 66,
   "metadata": {
    "collapsed": false
   },
   "outputs": [
    {
     "data": {
      "text/plain": [
       "Counter({0: 62, 1: 8})"
      ]
     },
     "execution_count": 66,
     "metadata": {},
     "output_type": "execute_result"
    }
   ],
   "source": [
    "aa"
   ]
  },
  {
   "cell_type": "code",
   "execution_count": 68,
   "metadata": {
    "collapsed": true
   },
   "outputs": [],
   "source": [
    "bb = 'asdfkjasdfkjhasdklfhkalsdfhklasdfkjlasdhkjlsdakfkjlasdkhfaskh'"
   ]
  },
  {
   "cell_type": "code",
   "execution_count": 71,
   "metadata": {
    "collapsed": false
   },
   "outputs": [],
   "source": [
    "bb = Counter(bb)"
   ]
  },
  {
   "cell_type": "code",
   "execution_count": 76,
   "metadata": {
    "collapsed": false
   },
   "outputs": [
    {
     "data": {
      "text/plain": [
       "('k', 11)"
      ]
     },
     "execution_count": 76,
     "metadata": {},
     "output_type": "execute_result"
    }
   ],
   "source": [
    "def thing(a, b):\n",
    "    if a[1] >= b[1]:\n",
    "        return a\n",
    "    else:\n",
    "        return b\n",
    "    \n",
    "reduce(thing, bb.iteritems())"
   ]
  },
  {
   "cell_type": "code",
   "execution_count": 75,
   "metadata": {
    "collapsed": false
   },
   "outputs": [
    {
     "data": {
      "text/plain": [
       "[('a', 9),\n",
       " ('d', 8),\n",
       " ('f', 7),\n",
       " ('h', 6),\n",
       " ('k', 11),\n",
       " ('j', 5),\n",
       " ('l', 6),\n",
       " ('s', 9)]"
      ]
     },
     "execution_count": 75,
     "metadata": {},
     "output_type": "execute_result"
    }
   ],
   "source": [
    "list(bb.iteritems())"
   ]
  },
  {
   "cell_type": "code",
   "execution_count": null,
   "metadata": {
    "collapsed": true
   },
   "outputs": [],
   "source": []
  }
 ],
 "metadata": {
  "kernelspec": {
   "display_name": "Python 2",
   "language": "python",
   "name": "python2"
  },
  "language_info": {
   "codemirror_mode": {
    "name": "ipython",
    "version": 2
   },
   "file_extension": ".py",
   "mimetype": "text/x-python",
   "name": "python",
   "nbconvert_exporter": "python",
   "pygments_lexer": "ipython2",
   "version": "2.7.12"
  }
 },
 "nbformat": 4,
 "nbformat_minor": 1
}
